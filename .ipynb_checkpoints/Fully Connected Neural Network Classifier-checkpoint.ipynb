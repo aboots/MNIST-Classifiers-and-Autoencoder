{
 "cells": [
  {
   "cell_type": "markdown",
   "metadata": {
    "id": "sSeuI5X2bJ3t"
   },
   "source": [
    "<font size=4>\n",
    "Author of Question: Arman Zarei\n",
    "\t\t\t<br/>"
   ]
  },
  {
   "cell_type": "markdown",
   "metadata": {
    "id": "hpgcA5aVbhvr"
   },
   "source": [
    "In this assignment, you are going to learn the fundamentals of PyTorch and implement a classifier network for MNIST dataset. You can read about more details of PyTorch components from [this link](https://pytorch.org/tutorials)."
   ]
  },
  {
   "cell_type": "markdown",
   "metadata": {
    "id": "eWerEtmwcjDW"
   },
   "source": [
    "### Setup"
   ]
  },
  {
   "cell_type": "code",
   "execution_count": 3,
   "metadata": {
    "id": "WB1qWR7ycyhk"
   },
   "outputs": [],
   "source": [
    "import torch\n",
    "from torchvision import datasets\n",
    "import matplotlib.pyplot as plt\n",
    "import torchvision.transforms as transforms\n",
    "import os\n",
    "from torch.utils.data import Dataset, DataLoader, random_split\n",
    "import torch.nn as nn\n",
    "import torch.nn.functional as F\n",
    "from Helper_codes.ae_helper import init_mnist_subset_directories"
   ]
  },
  {
   "cell_type": "code",
   "execution_count": 4,
   "metadata": {},
   "outputs": [
    {
     "data": {
      "text/plain": [
       "<torch._C.Generator at 0x22c7c99b900>"
      ]
     },
     "execution_count": 4,
     "metadata": {},
     "output_type": "execute_result"
    }
   ],
   "source": [
    "torch.manual_seed(44)"
   ]
  },
  {
   "cell_type": "code",
   "execution_count": 5,
   "metadata": {
    "colab": {
     "base_uri": "https://localhost:8080/"
    },
    "id": "Xl50MioBdFpk",
    "outputId": "87763a85-aac4-403a-f967-e469313c94b9"
   },
   "outputs": [
    {
     "data": {
      "text/plain": [
       "device(type='cpu')"
      ]
     },
     "execution_count": 5,
     "metadata": {},
     "output_type": "execute_result"
    }
   ],
   "source": [
    "device = torch.device('cuda' if torch.cuda.is_available() else 'cpu')\n",
    "device"
   ]
  },
  {
   "cell_type": "markdown",
   "metadata": {
    "id": "wx59hwkqj0RD"
   },
   "source": [
    "#### Loading dataset"
   ]
  },
  {
   "cell_type": "code",
   "execution_count": 6,
   "metadata": {
    "id": "YDdS3sikj1xB"
   },
   "outputs": [],
   "source": [
    "mnist_dataset = datasets.MNIST(root='data', train=True, download=True, transform=transforms.ToTensor())"
   ]
  },
  {
   "cell_type": "markdown",
   "metadata": {
    "id": "USPO44OldQSB"
   },
   "source": [
    "## Autograd"
   ]
  },
  {
   "cell_type": "markdown",
   "metadata": {
    "id": "UZ3MTvqldpmz"
   },
   "source": [
    "Autograd is PyTorch's automatic differentiation engine that powers neural network training. In essence it helps us to calculate derivatives and updating parameters. To read more about Autograd and Computational Graph visit [this link](https://pytorch.org/tutorials/beginner/blitz/autograd_tutorial.html)\n",
    "\n",
    "Let us define two parameters: $p_1$ and $p_2$. "
   ]
  },
  {
   "cell_type": "code",
   "execution_count": 7,
   "metadata": {
    "id": "fyMHSBA7eg1P"
   },
   "outputs": [],
   "source": [
    "p1 = torch.tensor([3.], requires_grad=True)\n",
    "p2 = torch.tensor([7.], requires_grad=True)"
   ]
  },
  {
   "cell_type": "markdown",
   "metadata": {
    "id": "3clMbGmyesLk"
   },
   "source": [
    "Now define a variable $L$ as below:\n",
    "\n",
    "$L = 3 \\times p_1^3 - 7 \\times p_2^2 + sin(p1) \\times p_2^2$"
   ]
  },
  {
   "cell_type": "code",
   "execution_count": 8,
   "metadata": {
    "collectable": true,
    "id": "Q6Rf3tc5bJ3u"
   },
   "outputs": [
    {
     "data": {
      "text/plain": [
       "tensor([-255.0851], grad_fn=<AddBackward0>)"
      ]
     },
     "execution_count": 8,
     "metadata": {},
     "output_type": "execute_result"
    }
   ],
   "source": [
    "# Place your code here (2.5 Points)\n",
    "## Hint: You can use torch.sin for calculation of sin(p1)\n",
    "L = (3 * (p1 * p1 * p1)) - (7 * p2 * p2) + (torch.sin(p1) * p2 * p2)\n",
    "L"
   ]
  },
  {
   "cell_type": "markdown",
   "metadata": {
    "id": "yVEaM66zfI_r"
   },
   "source": [
    "Now you have to calculate the gradient of $p_1$ and $p_2$ with respect to $L$. First do it by hand and write the mathematical expression in the below cell both for $p_1$ and $p_2$. Then evaluate them at $3$ and $7$ (acording to the initialization)"
   ]
  },
  {
   "cell_type": "markdown",
   "metadata": {
    "id": "6AK61RzngBya"
   },
   "source": [
    "Place your expressions here **(2.5 Points)**\n",
    "\n",
    "\n",
    "$\\frac{dL}{dp_1} = 9 \\times p_1^2 + cos(p1) \\times p_2^2$\n",
    "\n",
    "$\\frac{dL}{dp_2} = -14 \\times p_2 + 2 \\times sin(p1) \\times p_2 $\n",
    "\n",
    "$\\frac{dL}{dp_1}(3, 7) = 32.49036766657817$ \n",
    "\n",
    "$\\frac{dL}{dp_2}(3, 7) = -96.02431988716187$"
   ]
  },
  {
   "cell_type": "code",
   "execution_count": 9,
   "metadata": {
    "id": "H8J9pEWYhQ7-"
   },
   "outputs": [
    {
     "name": "stdout",
     "output_type": "stream",
     "text": [
      " p1 grad: tensor([32.4904], grad_fn=<AddBackward0>)\n",
      " p2 grad: tensor([-96.0243], grad_fn=<AddBackward0>)\n"
     ]
    }
   ],
   "source": [
    "# Place your code here (optional)\n",
    "## For calculation of dL/dp in the given point\n",
    "print(f' p1 grad: {(9 * p1 * p1) + (torch.cos(p1) * p2 * p2)}')\n",
    "print(f' p2 grad: {(-14 * p2) + (2 * torch.sin(p1) * p2)}')"
   ]
  },
  {
   "cell_type": "markdown",
   "metadata": {
    "id": "vfnbUWe9jDN_"
   },
   "source": [
    "Now let's calculate this using pytorch. The below code will construct the computational graph and stores the gradient of each variable inside of it."
   ]
  },
  {
   "cell_type": "code",
   "execution_count": 10,
   "metadata": {
    "id": "JHOUb91BfSLV"
   },
   "outputs": [],
   "source": [
    "L.backward()"
   ]
  },
  {
   "cell_type": "markdown",
   "metadata": {
    "id": "DPlm6Y-WjdqQ"
   },
   "source": [
    "Check whether the result of your calculations is the same with the autograd's output."
   ]
  },
  {
   "cell_type": "code",
   "execution_count": 11,
   "metadata": {
    "colab": {
     "base_uri": "https://localhost:8080/"
    },
    "id": "dTATg0EXfemL",
    "outputId": "36d5090d-89b1-4107-b626-b71bd8c915f0"
   },
   "outputs": [
    {
     "name": "stdout",
     "output_type": "stream",
     "text": [
      "P_1 grad: 32.4903678894043\n",
      "P_2 grad: -96.02432250976562\n"
     ]
    }
   ],
   "source": [
    "print(f\"P_1 grad: {p1.grad.item()}\\nP_2 grad: {p2.grad.item()}\")"
   ]
  },
  {
   "cell_type": "markdown",
   "metadata": {
    "id": "bnNZl6e6jpqt"
   },
   "source": [
    "## Transform "
   ]
  },
  {
   "cell_type": "markdown",
   "metadata": {
    "id": "LU7tlE9JkdPq"
   },
   "source": [
    "Data does not always come in its final processed form that is required for training machine learning algorithms. We use transforms to perform some manipulation of the data and make it suitable for training. For more details, you can read [this link](https://pytorch.org/vision/stable/transforms.html)\n",
    "\n",
    "There are many transformations that are already implemented inside pytorch that you can use. Here we are going to implement some transformation from scratch using PyTorch's framework."
   ]
  },
  {
   "cell_type": "markdown",
   "metadata": {
    "id": "axRueoKYkrq2"
   },
   "source": [
    "#### Random Horizontal Flip Transformation"
   ]
  },
  {
   "cell_type": "markdown",
   "metadata": {
    "id": "VWJaLIkgl6im"
   },
   "source": [
    "Define a transformation that flips the image (horizontally) with probability of $p$. In order to implement a simple transformation class, you need to have two methods: `__init__` and `__call__` (which receives the image)"
   ]
  },
  {
   "cell_type": "code",
   "execution_count": 12,
   "metadata": {
    "id": "tpVu037dkqGW"
   },
   "outputs": [],
   "source": [
    "class RandomHorizontalFlip(object):\n",
    "    def __init__(self, p=0.5):\n",
    "    # Place your code here (2 Points)\n",
    "        self.p = p\n",
    "  \n",
    "    def __call__(self, x):\n",
    "    # Place your code here (3 Points)\n",
    "        if torch.rand(1).item() > self.p:\n",
    "            return x\n",
    "        return torch.flip(x,[len(x.shape) - 1])"
   ]
  },
  {
   "cell_type": "markdown",
   "metadata": {
    "id": "p7kC6zOOmraA"
   },
   "source": [
    "#### Random Color Swap"
   ]
  },
  {
   "cell_type": "markdown",
   "metadata": {
    "id": "LcFPotJVmzha"
   },
   "source": [
    "Now that you have learned how to implement a transformation class, let's build another one. Define a transformation which swaps the colors (in the gray scale image) with probability of $p$. For example, if the given image had a white colored number with a black background, it should output an image with black colored number and a white background.\n",
    "\n",
    "**Hint:** for a given input $x$, you can concider the swapped color version of it as $x_{new} = m - x$ where $m$ is the maximum value in image $x$"
   ]
  },
  {
   "cell_type": "code",
   "execution_count": 13,
   "metadata": {
    "id": "5_4W0QeDmxrZ"
   },
   "outputs": [],
   "source": [
    "# Place your code here (5 Points)\n",
    "class RandomColorSwap(object):\n",
    "    def __init__(self, p=0.5):\n",
    "        self.p = p\n",
    "  \n",
    "    def __call__(self, x):\n",
    "        if torch.rand(1).item() > self.p:\n",
    "            return x\n",
    "        return torch.max(x).item() - x"
   ]
  },
  {
   "cell_type": "markdown",
   "metadata": {
    "id": "6sO1GAmQn-D_"
   },
   "source": [
    "### Evaluation of transformations"
   ]
  },
  {
   "cell_type": "markdown",
   "metadata": {
    "id": "gU8dglTeoCSq"
   },
   "source": [
    "Now, let's apply these transformations on some images of our dataset. You can stack different transformation using `Compose`"
   ]
  },
  {
   "cell_type": "code",
   "execution_count": 14,
   "metadata": {
    "id": "HhU0pqttoBC7"
   },
   "outputs": [],
   "source": [
    "trans = transforms.Compose([\n",
    "  RandomHorizontalFlip(p=0.7),\n",
    "  RandomColorSwap()\n",
    "])"
   ]
  },
  {
   "cell_type": "code",
   "execution_count": 16,
   "metadata": {
    "id": "WjTBM5N8oMJQ"
   },
   "outputs": [
    {
     "data": {
      "image/png": "[encoded data removed]",
      "text/plain": [
       "<Figure size 1800x360 with 20 Axes>"
      ]
     },
     "metadata": {},
     "output_type": "display_data"
    }
   ],
   "source": [
    "num_imgs = 10\n",
    "fig, axs = plt.subplots(2, num_imgs, figsize=(25, 5))\n",
    "for i, idx in enumerate(torch.randint(0, len(mnist_dataset), [num_imgs])):\n",
    "    x, y = mnist_dataset[idx]\n",
    "    axs[0, i].imshow(x[0], cmap='gray')\n",
    "    axs[1, i].imshow(trans(x)[0], cmap='gray')\n",
    "    for k in range(2):\n",
    "        axs[k, i].set_yticks([])\n",
    "        axs[k, i].set_xticks([])\n",
    "\n",
    "axs[0, 0].set_ylabel(\"Original\")\n",
    "axs[1, 0].set_ylabel(\"Transformed\");"
   ]
  },
  {
   "cell_type": "markdown",
   "metadata": {
    "id": "nrl6OhN_osOd"
   },
   "source": [
    "What we expect to see is that, some of them are fliped horizontally, some swapped in color, and some both."
   ]
  },
  {
   "cell_type": "markdown",
   "metadata": {
    "id": "6f3K_sOxpG3V"
   },
   "source": [
    "## Dataset"
   ]
  },
  {
   "cell_type": "markdown",
   "metadata": {
    "id": "sYh7GBGPpQhU"
   },
   "source": [
    "In this section, we are going to implement a dataset class. Inside `torchvision.datasets` there are many Datasets that are already implemented and ready to use. But, in many situations it's necessary to implement one by your self."
   ]
  },
  {
   "cell_type": "markdown",
   "metadata": {
    "id": "JqQjsiGTrW8l"
   },
   "source": [
    "Run the below cell to initialize our dataset"
   ]
  },
  {
   "cell_type": "code",
   "execution_count": 17,
   "metadata": {
    "colab": {
     "base_uri": "https://localhost:8080/"
    },
    "id": "FztDAwMxrLRx",
    "outputId": "570cfceb-fe55-4b21-8394-6f9843a5b8b3"
   },
   "outputs": [
    {
     "name": "stderr",
     "output_type": "stream",
     "text": [
      "100%|████████████████████████████████████████████████████████████████████████████| 5000/5000 [00:02<00:00, 1722.20it/s]\n"
     ]
    }
   ],
   "source": [
    "dataset_path = \"new_mnist\"\n",
    "init_mnist_subset_directories(mnist_dataset, dataset_path)"
   ]
  },
  {
   "cell_type": "markdown",
   "metadata": {
    "id": "7iYvcVlhrmmk"
   },
   "source": [
    "If you take a look at `new_mnist` directory which is created in the directory you are working in, you see that it contains 10 folders with names from `0` to `9` indicating the label of the images inside it. Inside each, some files with name `data_{number}.pth` exist. Each `.pth` file is an image.\n",
    "\n",
    "Now you have to implement a Dataset on top of these files.\n",
    "The methods that you should implement in a Dataset (as you can see in the code) is as described below:\n",
    "- `__init__`: In our example assume that it only accepts `root_dir` and `transform` as it's parameters (You should apply the transformations before outputing the data)\n",
    "- `__len__`: Should return the number of data in your dataset\n",
    "- `__getitem__`: which receives an index, should return the data at the given index (which is a tuple here, containing image and the corresponding label) "
   ]
  },
  {
   "cell_type": "code",
   "execution_count": 18,
   "metadata": {
    "id": "RixD6z30qt1o"
   },
   "outputs": [],
   "source": [
    "class MNISTDataset(Dataset):\n",
    "    def __init__(self, root_dir, transform):\n",
    "        # Place your code here (4 Points)\n",
    "        ## Hint: Use os.listdir(some_path) to get the list of files\n",
    "        self.data = []\n",
    "        for label in os.listdir(root_dir):\n",
    "            for item in os.listdir(root_dir + '/' + label):\n",
    "                x = torch.load(root_dir + '/' + label + '/' + item)\n",
    "                self.data.append((transform(x), label))\n",
    "\n",
    "    def __len__(self):\n",
    "        # Place your code here (1 Points)\n",
    "        return len(self.data)\n",
    "\n",
    "    def __getitem__(self, idx):\n",
    "        # Place your code here (3 Points)\n",
    "        ## Return a tuple (image, label)\n",
    "        return self.data[idx]"
   ]
  },
  {
   "cell_type": "markdown",
   "metadata": {
    "id": "ObSdu-MwuYJK"
   },
   "source": [
    "After you defined your dataset, let's use it."
   ]
  },
  {
   "cell_type": "code",
   "execution_count": 19,
   "metadata": {
    "id": "YctASmSEuiqG"
   },
   "outputs": [
    {
     "data": {
      "text/plain": [
       "5000"
      ]
     },
     "execution_count": 19,
     "metadata": {},
     "output_type": "execute_result"
    }
   ],
   "source": [
    "my_dataset = MNISTDataset(root_dir=dataset_path, transform=RandomColorSwap())\n",
    "len(my_dataset)"
   ]
  },
  {
   "cell_type": "markdown",
   "metadata": {
    "id": "VMTt5b4wvWik"
   },
   "source": [
    "Visualize 10 samples (randomely) from your dataset with their labels"
   ]
  },
  {
   "cell_type": "code",
   "execution_count": 20,
   "metadata": {
    "id": "nWMmwUvjudSr"
   },
   "outputs": [
    {
     "data": {
      "image/png": "[encoded data removed]",
      "text/plain": [
       "<Figure size 1800x360 with 10 Axes>"
      ]
     },
     "metadata": {
      "needs_background": "light"
     },
     "output_type": "display_data"
    }
   ],
   "source": [
    "# Place your code here (2 Points)\n",
    "num_imgs = 10\n",
    "fig, axs = plt.subplots(1, num_imgs, figsize=(25, 5))\n",
    "for i, idx in enumerate(torch.randint(0, len(my_dataset), [num_imgs])):\n",
    "    x, y = my_dataset[idx]\n",
    "    axs[i].imshow(x[0], cmap='gray')\n",
    "    axs[i].title.set_text(f'Label: {y}')\n",
    "axs[0].set_ylabel(\"Samples\");"
   ]
  },
  {
   "cell_type": "markdown",
   "metadata": {
    "id": "qKWNRCGuwDpf"
   },
   "source": [
    "## MNIST Classification"
   ]
  },
  {
   "cell_type": "markdown",
   "metadata": {
    "id": "DQ8QfxCnzESu"
   },
   "source": [
    "### Model\n",
    "Define your model (Based on what you have learned in the workshop). I highly encourage you to try different models with different layers in order to achieve a better accuracy\n",
    "\n",
    "**Notice:** You cannot use convolution layers in your model "
   ]
  },
  {
   "cell_type": "code",
   "execution_count": 21,
   "metadata": {
    "id": "2rpkLTDazDgl"
   },
   "outputs": [],
   "source": [
    "# Place your code here (5 points)\n",
    "class DigitRecognizer(nn.Module):\n",
    "    def __init__(self, in_features: int, num_classes: int):\n",
    "\n",
    "        super().__init__()\n",
    "        self.lin1 = nn.Linear(in_features, 128)\n",
    "        self.batchnorm = nn.BatchNorm1d(128)\n",
    "        self.relu = nn.ReLU()\n",
    "        self.dropout = nn.Dropout(p=0.15)\n",
    "        self.lin2 = nn.Linear(128, 64)\n",
    "        self.batchnorm2 = nn.BatchNorm1d(64)\n",
    "        self.tanh = nn.Tanh()    \n",
    "        self.dropout2 = nn.Dropout(p=0.05)\n",
    "        self.lin3 = nn.Linear(64, num_classes)\n",
    "        self.softmax = nn.LogSoftmax(dim=1)\n",
    "\n",
    "    def forward(self, x: torch.Tensor) -> torch.Tensor:\n",
    "        x = self.lin1(x)\n",
    "        x = self.batchnorm(x)\n",
    "        x = self.relu(x)\n",
    "        x = self.dropout(x)\n",
    "        x = self.lin2(x) \n",
    "        x = self.batchnorm2(x)\n",
    "        x = self.tanh(x)\n",
    "        x = self.dropout2(x)\n",
    "        x = self.lin3(x)  \n",
    "        x = self.softmax(x)  \n",
    "        return x"
   ]
  },
  {
   "cell_type": "code",
   "execution_count": 22,
   "metadata": {},
   "outputs": [
    {
     "data": {
      "text/plain": [
       "DigitRecognizer(\n",
       "  (lin1): Linear(in_features=784, out_features=128, bias=True)\n",
       "  (batchnorm): BatchNorm1d(128, eps=1e-05, momentum=0.1, affine=True, track_running_stats=True)\n",
       "  (relu): ReLU()\n",
       "  (dropout): Dropout(p=0.15, inplace=False)\n",
       "  (lin2): Linear(in_features=128, out_features=64, bias=True)\n",
       "  (batchnorm2): BatchNorm1d(64, eps=1e-05, momentum=0.1, affine=True, track_running_stats=True)\n",
       "  (tanh): Tanh()\n",
       "  (dropout2): Dropout(p=0.05, inplace=False)\n",
       "  (lin3): Linear(in_features=64, out_features=10, bias=True)\n",
       "  (softmax): LogSoftmax(dim=1)\n",
       ")"
      ]
     },
     "execution_count": 22,
     "metadata": {},
     "output_type": "execute_result"
    }
   ],
   "source": [
    "model = DigitRecognizer(784, 10).to(device)\n",
    "model"
   ]
  },
  {
   "cell_type": "markdown",
   "metadata": {
    "id": "29ekb8vBz06M"
   },
   "source": [
    "### Dataset and Dataloader"
   ]
  },
  {
   "cell_type": "markdown",
   "metadata": {
    "id": "UIJbRn7C0MXI"
   },
   "source": [
    "Prepare datasets and dataloader for train/test. We use MNIST dataset that is already implemented inside `torchvision.datasets`.\n",
    "\n",
    " You need to split the `mnist_dataset` into `train_dataset` and `val_dataset`. \n",
    " \n",
    " You can also define more transformations that you think it would help the training process **(Optional)**."
   ]
  },
  {
   "cell_type": "code",
   "execution_count": 6,
   "metadata": {
    "id": "OGASwi3AzzZV"
   },
   "outputs": [],
   "source": [
    "transform_compose = transforms.Compose([\n",
    "    transforms.ToTensor(),\n",
    "    # Place your code here\n",
    "#     RandomColorSwap(p=0.03)\n",
    "])\n",
    "\n",
    "mnist_dataset = datasets.MNIST(root='dataset', train=True, download=True, transform=transform_compose)\n",
    "# Place your code here (1 points)\n",
    "## Notice: Split mnist_dataset into train_dataset and val_dataset\n",
    "train_dataset, val_dataset = random_split(mnist_dataset, [int(0.9 * len(mnist_dataset)),\n",
    "                                                          len(mnist_dataset) - int(0.9 * len(mnist_dataset))],\n",
    "                                          generator=torch.Generator().manual_seed(42))\n",
    "# End of block for your code placement\n",
    "test_dataset = datasets.MNIST(root='dataset', train=False, download=True, transform=transforms.ToTensor())\n",
    "\n",
    "train_loader = DataLoader(dataset=train_dataset, batch_size=32, shuffle=True)\n",
    "val_loader = DataLoader(dataset=val_dataset, batch_size=32, shuffle=False)\n",
    "test_loader = DataLoader(dataset=test_dataset, batch_size=32, shuffle=False)"
   ]
  },
  {
   "cell_type": "markdown",
   "metadata": {
    "id": "8_knAsJK1eoL"
   },
   "source": [
    "### Criterion and Optimizer"
   ]
  },
  {
   "cell_type": "markdown",
   "metadata": {
    "id": "hCwVvh7v1mPy"
   },
   "source": [
    "you have to tune the `learning_rate` yourself (Based on your training process)"
   ]
  },
  {
   "cell_type": "code",
   "execution_count": 7,
   "metadata": {
    "id": "3AiRenXy1jJO"
   },
   "outputs": [],
   "source": [
    "criterion = nn.CrossEntropyLoss()\n",
    "learning_rate = 9e-4\n",
    "optimizer = torch.optim.Adam(model.parameters(), lr=learning_rate)"
   ]
  },
  {
   "cell_type": "markdown",
   "metadata": {
    "id": "4c9K1Hlf12UF"
   },
   "source": [
    "### Train your model"
   ]
  },
  {
   "cell_type": "markdown",
   "metadata": {
    "id": "urJ44vOA2Exl"
   },
   "source": [
    "Write your training/validation loop in the following cell for an arbitrary number of epochs (until convergence is detected). You also need to store train/validation loss at each epoch in order to visualize them the after training is done."
   ]
  },
  {
   "cell_type": "code",
   "execution_count": 10,
   "metadata": {},
   "outputs": [],
   "source": [
    "import tqdm\n",
    "from time import time"
   ]
  },
  {
   "cell_type": "code",
   "execution_count": 11,
   "metadata": {},
   "outputs": [],
   "source": [
    "def eval_epoch(model: nn.Module, criterion: nn.Module, dataloader: torch.utils.data.DataLoader, batch_size=32, test_mode=False):\n",
    "    epoch_true = 0\n",
    "    epoch_all = 0\n",
    "    eval_loss = 0\n",
    "    i = 0\n",
    "    wrong_samples = []\n",
    "\n",
    "    with torch.no_grad(), tqdm.tqdm(enumerate(dataloader), total=len(dataloader)) as pbar:\n",
    "        for i, (img, label) in pbar:\n",
    "            img = img.to(device)\n",
    "            img = img.view(img.shape[0], -1)\n",
    "            label = label.to(device)\n",
    "            with torch.no_grad():\n",
    "                predicted = model(img)\n",
    "\n",
    "            loss = criterion(predicted, label)\n",
    "            eval_loss += loss.item() * batch_size\n",
    "\n",
    "            predictions = predicted.argmax(-1)\n",
    "            epoch_all += len(predictions)\n",
    "            epoch_true += (predictions == label).sum()\n",
    "            if test_mode:\n",
    "                for j, (pred, lbl) in enumerate(zip(predictions,label)):\n",
    "                    if pred != lbl:\n",
    "                        wrong_samples.append((img[j], pred, lbl))\n",
    "\n",
    "            pbar.set_description(f'Validation Acc: {epoch_true * 100. / epoch_all:.2f}%')\n",
    "    return eval_loss, wrong_samples"
   ]
  },
  {
   "cell_type": "code",
   "execution_count": 12,
   "metadata": {
    "id": "lyCVVo742PPQ"
   },
   "outputs": [
    {
     "name": "stderr",
     "output_type": "stream",
     "text": [
      "Training Acc: 92.01%: 100%|███████████████████████████████████████████████████████| 1688/1688 [00:13<00:00, 129.63it/s]\n",
      "Validation Acc: 96.08%: 100%|███████████████████████████████████████████████████████| 188/188 [00:01<00:00, 175.18it/s]\n"
     ]
    },
    {
     "name": "stdout",
     "output_type": "stream",
     "text": [
      "Epoch 1 finished in 14.10s\n",
      "[Epoch 1]\tTrain Loss: 0.2899\tValidation Loss: 0.1270\n"
     ]
    },
    {
     "name": "stderr",
     "output_type": "stream",
     "text": [
      "Training Acc: 95.54%: 100%|███████████████████████████████████████████████████████| 1688/1688 [00:12<00:00, 130.19it/s]\n",
      "Validation Acc: 96.98%: 100%|███████████████████████████████████████████████████████| 188/188 [00:01<00:00, 170.44it/s]\n"
     ]
    },
    {
     "name": "stdout",
     "output_type": "stream",
     "text": [
      "Epoch 2 finished in 14.08s\n",
      "[Epoch 2]\tTrain Loss: 0.1455\tValidation Loss: 0.0993\n"
     ]
    },
    {
     "name": "stderr",
     "output_type": "stream",
     "text": [
      "Training Acc: 96.19%: 100%|███████████████████████████████████████████████████████| 1688/1688 [00:13<00:00, 126.80it/s]\n",
      "Validation Acc: 97.28%: 100%|███████████████████████████████████████████████████████| 188/188 [00:01<00:00, 162.06it/s]\n"
     ]
    },
    {
     "name": "stdout",
     "output_type": "stream",
     "text": [
      "Epoch 3 finished in 14.48s\n",
      "[Epoch 3]\tTrain Loss: 0.1192\tValidation Loss: 0.0900\n"
     ]
    },
    {
     "name": "stderr",
     "output_type": "stream",
     "text": [
      "Training Acc: 96.83%: 100%|███████████████████████████████████████████████████████| 1688/1688 [00:13<00:00, 125.76it/s]\n",
      "Validation Acc: 97.25%: 100%|███████████████████████████████████████████████████████| 188/188 [00:01<00:00, 160.44it/s]\n"
     ]
    },
    {
     "name": "stdout",
     "output_type": "stream",
     "text": [
      "Epoch 4 finished in 14.60s\n",
      "[Epoch 4]\tTrain Loss: 0.1032\tValidation Loss: 0.0844\n"
     ]
    },
    {
     "name": "stderr",
     "output_type": "stream",
     "text": [
      "Training Acc: 97.06%: 100%|███████████████████████████████████████████████████████| 1688/1688 [00:13<00:00, 122.27it/s]\n",
      "Validation Acc: 97.67%: 100%|███████████████████████████████████████████████████████| 188/188 [00:01<00:00, 158.67it/s]\n"
     ]
    },
    {
     "name": "stdout",
     "output_type": "stream",
     "text": [
      "Epoch 5 finished in 15.00s\n",
      "[Epoch 5]\tTrain Loss: 0.0935\tValidation Loss: 0.0783\n"
     ]
    },
    {
     "name": "stderr",
     "output_type": "stream",
     "text": [
      "Training Acc: 97.29%: 100%|███████████████████████████████████████████████████████| 1688/1688 [00:13<00:00, 122.45it/s]\n",
      "Validation Acc: 97.70%: 100%|███████████████████████████████████████████████████████| 188/188 [00:01<00:00, 158.88it/s]\n"
     ]
    },
    {
     "name": "stdout",
     "output_type": "stream",
     "text": [
      "Epoch 6 finished in 14.98s\n",
      "[Epoch 6]\tTrain Loss: 0.0845\tValidation Loss: 0.0745\n"
     ]
    },
    {
     "name": "stderr",
     "output_type": "stream",
     "text": [
      "Training Acc: 97.49%: 100%|███████████████████████████████████████████████████████| 1688/1688 [00:13<00:00, 129.71it/s]\n",
      "Validation Acc: 97.82%: 100%|███████████████████████████████████████████████████████| 188/188 [00:01<00:00, 170.05it/s]\n"
     ]
    },
    {
     "name": "stdout",
     "output_type": "stream",
     "text": [
      "Epoch 7 finished in 14.12s\n",
      "[Epoch 7]\tTrain Loss: 0.0760\tValidation Loss: 0.0695\n"
     ]
    },
    {
     "name": "stderr",
     "output_type": "stream",
     "text": [
      "Training Acc: 97.58%: 100%|███████████████████████████████████████████████████████| 1688/1688 [00:13<00:00, 127.83it/s]\n",
      "Validation Acc: 97.75%: 100%|███████████████████████████████████████████████████████| 188/188 [00:01<00:00, 153.68it/s]\n"
     ]
    },
    {
     "name": "stdout",
     "output_type": "stream",
     "text": [
      "Epoch 8 finished in 14.44s\n",
      "[Epoch 8]\tTrain Loss: 0.0730\tValidation Loss: 0.0703\n"
     ]
    },
    {
     "name": "stderr",
     "output_type": "stream",
     "text": [
      "Training Acc: 97.82%: 100%|███████████████████████████████████████████████████████| 1688/1688 [00:14<00:00, 114.71it/s]\n",
      "Validation Acc: 97.80%: 100%|███████████████████████████████████████████████████████| 188/188 [00:01<00:00, 153.12it/s]\n"
     ]
    },
    {
     "name": "stdout",
     "output_type": "stream",
     "text": [
      "Epoch 9 finished in 15.95s\n",
      "[Epoch 9]\tTrain Loss: 0.0677\tValidation Loss: 0.0656\n"
     ]
    },
    {
     "name": "stderr",
     "output_type": "stream",
     "text": [
      "Training Acc: 97.96%: 100%|███████████████████████████████████████████████████████| 1688/1688 [00:13<00:00, 128.60it/s]\n",
      "Validation Acc: 97.97%: 100%|███████████████████████████████████████████████████████| 188/188 [00:00<00:00, 196.80it/s]\n"
     ]
    },
    {
     "name": "stdout",
     "output_type": "stream",
     "text": [
      "Epoch 10 finished in 14.09s\n",
      "[Epoch 10]\tTrain Loss: 0.0611\tValidation Loss: 0.0676\n"
     ]
    },
    {
     "name": "stderr",
     "output_type": "stream",
     "text": [
      "Training Acc: 98.03%: 100%|███████████████████████████████████████████████████████| 1688/1688 [00:12<00:00, 140.60it/s]\n",
      "Validation Acc: 97.93%: 100%|███████████████████████████████████████████████████████| 188/188 [00:00<00:00, 190.92it/s]\n"
     ]
    },
    {
     "name": "stdout",
     "output_type": "stream",
     "text": [
      "Epoch 11 finished in 13.00s\n",
      "[Epoch 11]\tTrain Loss: 0.0581\tValidation Loss: 0.0680\n"
     ]
    },
    {
     "name": "stderr",
     "output_type": "stream",
     "text": [
      "Training Acc: 98.05%: 100%|███████████████████████████████████████████████████████| 1688/1688 [00:14<00:00, 118.70it/s]\n",
      "Validation Acc: 97.92%: 100%|███████████████████████████████████████████████████████| 188/188 [00:01<00:00, 145.78it/s]\n"
     ]
    },
    {
     "name": "stdout",
     "output_type": "stream",
     "text": [
      "Epoch 12 finished in 15.52s\n",
      "[Epoch 12]\tTrain Loss: 0.0576\tValidation Loss: 0.0684\n"
     ]
    },
    {
     "name": "stderr",
     "output_type": "stream",
     "text": [
      "Training Acc: 98.13%: 100%|███████████████████████████████████████████████████████| 1688/1688 [00:14<00:00, 112.63it/s]\n",
      "Validation Acc: 98.05%: 100%|███████████████████████████████████████████████████████| 188/188 [00:01<00:00, 166.58it/s]\n"
     ]
    },
    {
     "name": "stdout",
     "output_type": "stream",
     "text": [
      "Epoch 13 finished in 16.12s\n",
      "[Epoch 13]\tTrain Loss: 0.0551\tValidation Loss: 0.0619\n"
     ]
    },
    {
     "name": "stderr",
     "output_type": "stream",
     "text": [
      "Training Acc: 98.28%: 100%|███████████████████████████████████████████████████████| 1688/1688 [00:13<00:00, 124.30it/s]\n",
      "Validation Acc: 98.10%: 100%|███████████████████████████████████████████████████████| 188/188 [00:01<00:00, 175.75it/s]\n"
     ]
    },
    {
     "name": "stdout",
     "output_type": "stream",
     "text": [
      "Epoch 14 finished in 14.66s\n",
      "[Epoch 14]\tTrain Loss: 0.0507\tValidation Loss: 0.0636\n"
     ]
    },
    {
     "name": "stderr",
     "output_type": "stream",
     "text": [
      "Training Acc: 98.41%: 100%|███████████████████████████████████████████████████████| 1688/1688 [00:13<00:00, 120.73it/s]\n",
      "Validation Acc: 97.93%: 100%|███████████████████████████████████████████████████████| 188/188 [00:00<00:00, 192.84it/s]\n"
     ]
    },
    {
     "name": "stdout",
     "output_type": "stream",
     "text": [
      "Epoch 15 finished in 14.96s\n",
      "[Epoch 15]\tTrain Loss: 0.0490\tValidation Loss: 0.0685\n"
     ]
    },
    {
     "name": "stderr",
     "output_type": "stream",
     "text": [
      "Training Acc: 98.47%: 100%|███████████████████████████████████████████████████████| 1688/1688 [00:12<00:00, 138.07it/s]\n",
      "Validation Acc: 98.00%: 100%|███████████████████████████████████████████████████████| 188/188 [00:00<00:00, 189.02it/s]\n"
     ]
    },
    {
     "name": "stdout",
     "output_type": "stream",
     "text": [
      "Epoch 16 finished in 13.23s\n",
      "[Epoch 16]\tTrain Loss: 0.0466\tValidation Loss: 0.0661\n"
     ]
    },
    {
     "name": "stderr",
     "output_type": "stream",
     "text": [
      "Training Acc: 98.46%: 100%|███████████████████████████████████████████████████████| 1688/1688 [00:12<00:00, 138.52it/s]\n",
      "Validation Acc: 98.20%: 100%|███████████████████████████████████████████████████████| 188/188 [00:00<00:00, 188.25it/s]\n"
     ]
    },
    {
     "name": "stdout",
     "output_type": "stream",
     "text": [
      "Epoch 17 finished in 13.19s\n",
      "[Epoch 17]\tTrain Loss: 0.0459\tValidation Loss: 0.0627\n"
     ]
    },
    {
     "name": "stderr",
     "output_type": "stream",
     "text": [
      "Training Acc: 98.49%: 100%|███████████████████████████████████████████████████████| 1688/1688 [00:12<00:00, 137.17it/s]\n",
      "Validation Acc: 97.92%: 100%|███████████████████████████████████████████████████████| 188/188 [00:01<00:00, 156.43it/s]\n"
     ]
    },
    {
     "name": "stdout",
     "output_type": "stream",
     "text": [
      "Epoch 18 finished in 13.52s\n",
      "[Epoch 18]\tTrain Loss: 0.0455\tValidation Loss: 0.0698\n"
     ]
    },
    {
     "name": "stderr",
     "output_type": "stream",
     "text": [
      "Training Acc: 98.49%: 100%|███████████████████████████████████████████████████████| 1688/1688 [00:14<00:00, 122.47it/s]\n",
      "Validation Acc: 98.13%: 100%|███████████████████████████████████████████████████████| 188/188 [00:01<00:00, 157.18it/s]\n"
     ]
    },
    {
     "name": "stdout",
     "output_type": "stream",
     "text": [
      "Epoch 19 finished in 15.88s\n",
      "[Epoch 19]\tTrain Loss: 0.0434\tValidation Loss: 0.0683\n"
     ]
    },
    {
     "name": "stderr",
     "output_type": "stream",
     "text": [
      "Training Acc: 98.52%: 100%|███████████████████████████████████████████████████████| 1688/1688 [00:14<00:00, 114.79it/s]\n",
      "Validation Acc: 98.03%: 100%|███████████████████████████████████████████████████████| 188/188 [00:01<00:00, 141.48it/s]\n"
     ]
    },
    {
     "name": "stdout",
     "output_type": "stream",
     "text": [
      "Epoch 20 finished in 16.04s\n",
      "[Epoch 20]\tTrain Loss: 0.0432\tValidation Loss: 0.0673\n"
     ]
    }
   ],
   "source": [
    "num_epochs = 20\n",
    "batch_size = 32\n",
    "\n",
    "train_loss_arr, val_loss_arr = [], []\n",
    "for epoch in range(num_epochs):\n",
    "    start_time = time()\n",
    "\n",
    "    train_loss, val_loss = 0, 0\n",
    "    epoch_all = 0\n",
    "    epoch_true = 0\n",
    "    i = 0\n",
    "\n",
    "    model.train()\n",
    "    # Place your code here (5 points)\n",
    "    ## Hint: Loop throught train_loader, get images with their labels and train the model\n",
    "    ## Hint 2: To update train_loss inside the loop use \"train_loss += batch_loss * batch_size\"\"\n",
    "    \n",
    "    with tqdm.tqdm(enumerate(train_loader), total=len(train_loader)) as pbar:\n",
    "        for i, (img, label) in pbar:\n",
    "            img = img.to(device)\n",
    "            label = label.to(device)\n",
    "            img = img.view(img.shape[0], -1)\n",
    "            predicted = model(img)\n",
    "\n",
    "            loss = criterion(predicted, label)\n",
    "            \n",
    "            train_loss += loss.item() * batch_size\n",
    "\n",
    "            predictions = predicted.argmax(-1)\n",
    "            \n",
    "            epoch_all += len(predictions)\n",
    "            epoch_true += (predictions == label).sum()\n",
    "\n",
    "            pbar.set_description(f'Training Acc: {epoch_true * 100. / epoch_all:.2f}%')\n",
    "            loss.backward()\n",
    "\n",
    "            optimizer.step()\n",
    "            optimizer.zero_grad()  \n",
    "  \n",
    "    model.eval()\n",
    "    # Place your code here (4 points)\n",
    "    ## Hint: Loop throught val_loader, get images with their labels and evaluate the model\n",
    "    ## Hint 2: To update val_loss inside the loop use \"val_loss += batch_loss * batch_size\"\"\n",
    "    \n",
    "    val_loss, _ = eval_epoch(model, criterion, val_loader)\n",
    "    \n",
    "    train_loss /= len(train_loader.dataset)\n",
    "    val_loss /= len(val_loader.dataset)\n",
    "    train_loss_arr.append(train_loss)\n",
    "    val_loss_arr.append(val_loss)\n",
    "    \n",
    "    end_time = time()\n",
    "    \n",
    "    print(f'Epoch {epoch + 1} finished in {end_time - start_time:.2f}s')\n",
    "\n",
    "    print(f\"[Epoch {epoch + 1}]\\t\"\n",
    "        f\"Train Loss: {train_loss:.4f}\\t\"\n",
    "        f\"Validation Loss: {val_loss:.4f}\")"
   ]
  },
  {
   "cell_type": "markdown",
   "metadata": {
    "id": "oe3KbjZG2mNd"
   },
   "source": [
    "#### Plot train/validation loss"
   ]
  },
  {
   "cell_type": "code",
   "execution_count": 13,
   "metadata": {
    "id": "nNwH8WMy2qmr"
   },
   "outputs": [
    {
     "data": {
      "image/png": "[encoded data removed]",
      "text/plain": [
       "<Figure size 432x288 with 1 Axes>"
      ]
     },
     "metadata": {
      "needs_background": "light"
     },
     "output_type": "display_data"
    }
   ],
   "source": [
    "# Place your code here (1 points)\n",
    "ls_epoch = [_ + 1 for _ in range(num_epochs)]\n",
    "plt.plot(ls_epoch, train_loss_arr, color='r', label='Train')\n",
    "plt.plot(ls_epoch, val_loss_arr, color='g', label='Validation')\n",
    "plt.title('Loss plot')\n",
    "plt.ylabel('Loss')\n",
    "plt.xlabel('epoch')\n",
    "plt.legend()\n",
    "plt.show()   "
   ]
  },
  {
   "cell_type": "code",
   "execution_count": 14,
   "metadata": {},
   "outputs": [],
   "source": [
    "torch.save(model.state_dict(), 'digit_recognizer.pth')"
   ]
  },
  {
   "cell_type": "markdown",
   "metadata": {
    "id": "AKsD6NhU2w71"
   },
   "source": [
    "### Evaluation"
   ]
  },
  {
   "cell_type": "markdown",
   "metadata": {
    "id": "oZcXJuWX255T"
   },
   "source": [
    "Evaluate your model on test set. you have to report both loss and accuracy.\n",
    "\n",
    "In order to get the full score of this section, you need to achieve an accuracy above $95\\%$ and to get the extra points, your accuracy should be above $98\\%$ \n",
    "\n",
    "**Notice:** You should use test set only for evaluation of your model."
   ]
  },
  {
   "cell_type": "code",
   "execution_count": 15,
   "metadata": {
    "id": "bl4bsjhg2xMo"
   },
   "outputs": [
    {
     "name": "stderr",
     "output_type": "stream",
     "text": [
      "Validation Acc: 98.42%: 100%|███████████████████████████████████████████████████████| 313/313 [00:01<00:00, 161.77it/s]\n"
     ]
    },
    {
     "name": "stdout",
     "output_type": "stream",
     "text": [
      "Loss: 0.06486197996448027\n"
     ]
    }
   ],
   "source": [
    "# Place your code here (4 points + 5 Extra)\n",
    "model.eval()\n",
    "eval_loss, wrong_samples = eval_epoch(model, criterion, test_loader, test_mode=True)\n",
    "print(f'Loss: {eval_loss / len(test_loader.dataset)}')"
   ]
  },
  {
   "cell_type": "markdown",
   "metadata": {
    "id": "w4eZsFnV3rTi"
   },
   "source": [
    "### Visualization of wrong prediction"
   ]
  },
  {
   "cell_type": "markdown",
   "metadata": {
    "id": "y9jvB_lZ3uqx"
   },
   "source": [
    "Visualize $8$ samples (along with original label and model's prediction) from test set which are labeled wrong by your model"
   ]
  },
  {
   "cell_type": "code",
   "execution_count": 54,
   "metadata": {
    "id": "8rLlhJvE4IjZ"
   },
   "outputs": [
    {
     "data": {
      "image/png": "[encoded data removed]",
      "text/plain": [
       "<Figure size 1800x360 with 8 Axes>"
      ]
     },
     "metadata": {
      "needs_background": "light"
     },
     "output_type": "display_data"
    }
   ],
   "source": [
    "# Place your code here (5 points)\n",
    "num_imgs = 8\n",
    "fig, axs = plt.subplots(1, num_imgs, figsize=(25, 5))\n",
    "for i, idx in enumerate(torch.randint(0, len(wrong_samples), [num_imgs])):\n",
    "    x, pred, real = wrong_samples[idx]\n",
    "    axs[i].imshow(x.view(28,28), cmap='gray')\n",
    "    axs[i].title.set_text(f'Predicted Label: {pred}')\n",
    "    axs[i].set_xlabel(f'Real label: {real}')\n",
    "axs[0].set_ylabel(\"Samples\");"
   ]
  }
 ],
 "metadata": {
  "colab": {
   "collapsed_sections": [],
   "name": "AI2021_P4_Problem.ipynb",
   "provenance": []
  },
  "interpreter": {
   "hash": "f336af7d54ba0f0c1daaf2256eb85f31e983e88153daf7a27ef3ea6c724faba4"
  },
  "kernelspec": {
   "display_name": "Python 3",
   "language": "python",
   "name": "python3"
  },
  "language_info": {
   "codemirror_mode": {
    "name": "ipython",
    "version": 3
   },
   "file_extension": ".py",
   "mimetype": "text/x-python",
   "name": "python",
   "nbconvert_exporter": "python",
   "pygments_lexer": "ipython3",
   "version": "3.7.3"
  }
 },
 "nbformat": 4,
 "nbformat_minor": 1
}
